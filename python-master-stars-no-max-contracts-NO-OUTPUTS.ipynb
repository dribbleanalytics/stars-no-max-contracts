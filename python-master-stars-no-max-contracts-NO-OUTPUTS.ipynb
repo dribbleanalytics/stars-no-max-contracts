{
 "cells": [
  {
   "cell_type": "code",
   "execution_count": null,
   "metadata": {},
   "outputs": [],
   "source": [
    "# Import necessary packages\n",
    "\n",
    "%matplotlib inline\n",
    "\n",
    "import pandas as pd\n",
    "import numpy as np\n",
    "import matplotlib.pyplot as plt\n",
    "from matplotlib.ticker import FuncFormatter\n",
    "from scipy.stats import linregress\n",
    "from operator import itemgetter"
   ]
  },
  {
   "cell_type": "code",
   "execution_count": null,
   "metadata": {},
   "outputs": [],
   "source": [
    "# Import the datasets\n",
    "\n",
    "dfStars = pd.read_csv('stars-data.csv')\n",
    "dfNoStars = pd.read_csv('no-stars-data.csv')"
   ]
  },
  {
   "cell_type": "code",
   "execution_count": null,
   "metadata": {},
   "outputs": [],
   "source": [
    "# Preview the dataset\n",
    "\n",
    "dfNoStars.head()"
   ]
  },
  {
   "cell_type": "code",
   "execution_count": null,
   "metadata": {},
   "outputs": [],
   "source": [
    "# Create function that adjusts salary figures to add $ sign and divide by 1 million\n",
    "\n",
    "def millions(x, pos):\n",
    "    return '$%1.0fM' % (x*1e-6)"
   ]
  },
  {
   "cell_type": "code",
   "execution_count": null,
   "metadata": {},
   "outputs": [],
   "source": [
    "# Create function that returns r_value, r^2, and p_value for regressions to be used in graphs\n",
    "\n",
    "def linStats(x, y):\n",
    "    slope, intercept, r_value, p_value, std_err = linregress(x, y)\n",
    "    \n",
    "    if(p_value < 0.001):\n",
    "        pString = \", p < 0.001\"\n",
    "    else:\n",
    "        pString = \", p = %.3f\" % p_value\n",
    "        \n",
    "    rsquared = r_value ** 2\n",
    "    \n",
    "    rpString = \"r = \" + str(round(r_value, 3)) + \", r-squared = \" + str(round(rsquared, 3)) + pString\n",
    "    return rpString"
   ]
  },
  {
   "cell_type": "code",
   "execution_count": null,
   "metadata": {},
   "outputs": [],
   "source": [
    "# Create function that plots the linear trendline for the graph\n",
    "\n",
    "def linTrend(x, y, ax = None):\n",
    "    ax = ax\n",
    "    return ax.plot(np.unique(x), np.poly1d(np.polyfit(x, y, 1))(np.unique(x)))"
   ]
  },
  {
   "cell_type": "code",
   "execution_count": null,
   "metadata": {},
   "outputs": [],
   "source": [
    "# Create function that plots the correlations between a given value x and a player's 2018-19 salary\n",
    "\n",
    "y = '2018-19 Salary'\n",
    "\n",
    "plt.style.use('fivethirtyeight')\n",
    "\n",
    "def plot(x):\n",
    "    z, ax = plt.subplots()\n",
    "\n",
    "    ax.scatter(dfNoStars[x.upper()], dfNoStars[y], color = 'orange')\n",
    "    z.suptitle(\"Correlation between %s and salary\" % x.upper(), weight = 'bold', size = 18, y = 1.007)\n",
    "    ax.set_xlabel(\"2017-18 %s\" % x.upper())\n",
    "    ax.set_ylabel(y)\n",
    "    \n",
    "    ax.tick_params(axis = 'both', which = 'major', labelsize = 18)\n",
    "    ax.axhline(y = 0, color = 'black', linewidth = 1.3, alpha = .7)\n",
    "    \n",
    "    linTrend(dfNoStars[x.upper()], dfNoStars[y], ax)\n",
    "    \n",
    "    formatter = FuncFormatter(millions)\n",
    "    ax.yaxis.set_major_formatter(formatter)\n",
    "    \n",
    "    ax.set_title(\"%s\"%linStats(dfNoStars[x.upper()], dfNoStars[y]), size = 14, fontname = 'Rockwell')\n",
    "    \n",
    "    z.text(x = -.1, y = -.1,\n",
    "        s = '__________________________________________________________________',\n",
    "        fontsize = 14, color = 'grey', horizontalalignment='left')\n",
    "    \n",
    "    z.text(x = -.1, y = -.18,\n",
    "        s = 'dribbleanalytics.blogspot.com                     Source: Basketball Reference',\n",
    "        fontsize = 14, fontname = 'Rockwell', color = 'grey', horizontalalignment='left')\n",
    "\n",
    "    z.savefig(\"%s-correl.png\" % x, dpi = 400, bbox_inches = 'tight')"
   ]
  },
  {
   "cell_type": "markdown",
   "metadata": {},
   "source": [
    "Note: all these correlations are done with dfNoStars, meaning the top 10 NBA players are excluded"
   ]
  },
  {
   "cell_type": "markdown",
   "metadata": {},
   "source": [
    "# Correlation between PPG, WS, BPM, VORP and salary"
   ]
  },
  {
   "cell_type": "code",
   "execution_count": null,
   "metadata": {
    "scrolled": false
   },
   "outputs": [],
   "source": [
    "plotList = ['ppg', 'ws', 'bpm', 'vorp']\n",
    "\n",
    "for i in plotList:\n",
    "    plot(i)"
   ]
  },
  {
   "cell_type": "markdown",
   "metadata": {},
   "source": [
    "# Use average sum of stats to predict salary"
   ]
  },
  {
   "cell_type": "code",
   "execution_count": null,
   "metadata": {},
   "outputs": [],
   "source": [
    "# Create function that takes the sum of a stat and divides it by the sum of the salary of non-stars to create a salary/stat\n",
    "# constant, which is then multiplied by the stars' stat to give a stat-adjusted star salary\n",
    "\n",
    "totalSalary = dfNoStars['2018-19 Salary'].sum()\n",
    "starNames = dfStars.iloc[:, 2]\n",
    "\n",
    "def salary(x, y):\n",
    "    totalStat = dfNoStars[x].sum()\n",
    "    \n",
    "    if(totalStat < 0):\n",
    "        salaryPerStat = -(totalSalary / totalStat)\n",
    "    else:\n",
    "        salaryPerStat = totalSalary / totalStat\n",
    "    \n",
    "    print(\"Salary per %s: %.3f\" %(x, salaryPerStat))\n",
    "    \n",
    "    starSalaryStat = []    \n",
    "    for i in dfStars[x]:\n",
    "        starSalaryStat.append(i * salaryPerStat)\n",
    "        \n",
    "    for(i, j) in zip(starNames, starSalaryStat):\n",
    "        print(i, j)\n",
    "    \n",
    "    for i in starSalaryStat:\n",
    "        y.append(i)"
   ]
  },
  {
   "cell_type": "code",
   "execution_count": null,
   "metadata": {},
   "outputs": [],
   "source": [
    "# Create function that graphs the adjusted salary data given a list of the data, the title of the graph, the name to save\n",
    "# the file, and various numbers of how high to move the data labels\n",
    "\n",
    "xBar = np.arange(len(starNames))\n",
    "plt.style.use('fivethirtyeight')\n",
    "\n",
    "def salaryPlot(x, title, filename, textThreshold, textBottom, textTop):\n",
    "    \n",
    "    combinedList = [[i, j] for i, j in zip(starNames, x)]\n",
    "    sortedList = sorted(combinedList, key = itemgetter(1), reverse = True)\n",
    "    sortedData = [row[1] for row in sortedList]\n",
    "    sortedNames = [row[0] for row in sortedList]\n",
    "    \n",
    "    z, ax = plt.subplots()\n",
    "    \n",
    "    ax.bar(xBar, sortedData, edgecolor = 'white', linewidth = 3, color = 'skyblue')\n",
    "    \n",
    "    labels = sortedNames\n",
    "    rects = ax.patches\n",
    "    for rect, label in zip(rects, labels):\n",
    "        if(rect.get_height() < textThreshold):\n",
    "            ax.text(rect.get_x() + rect.get_width() / 1.8, rect.get_height() + textTop, label,\n",
    "            ha='center', va='bottom', rotation = 'vertical', color = 'black', size = 15)\n",
    "        elif(rect.get_height() > textThreshold):\n",
    "            ax.text(rect.get_x() + rect.get_width() / 1.8, textBottom, label,\n",
    "            ha='center', va='bottom', rotation = 'vertical', color = 'black', size = 15)\n",
    "        \n",
    "    z.suptitle(\"%s\" % title, weight = 'bold', size = 18, y = .95)\n",
    "    formatter = FuncFormatter(millions)\n",
    "    ax.yaxis.set_major_formatter(formatter)\n",
    "    ax.xaxis.set_visible(False)\n",
    "    ax.set_ylabel(\"Adjusted 2018-19 Salary\")\n",
    "    \n",
    "    ax.tick_params(axis = 'both', which = 'major', labelsize = 18)\n",
    "    ax.axhline(y = 0, color = 'black', linewidth = 4, alpha = .7)\n",
    "    \n",
    "    z.text(x = -.12, y = -.01,\n",
    "    s = '____________________________________________________________________',\n",
    "    fontsize = 14, color = 'grey', horizontalalignment='left')\n",
    "    \n",
    "    z.text(x = -.1, y = -.08,\n",
    "    s = 'dribbleanalytics.blogspot.com                     Source: Basketball Reference',\n",
    "    fontsize = 14, fontname = 'Rockwell', color = 'grey', horizontalalignment='left')\n",
    "    \n",
    "    z.savefig(\"%s.png\" % filename, dpi = 400, bbox_inches = 'tight')"
   ]
  },
  {
   "cell_type": "code",
   "execution_count": null,
   "metadata": {
    "scrolled": true
   },
   "outputs": [],
   "source": [
    "obpmList = []\n",
    "\n",
    "salary('OBPM', obpmList)\n",
    "\n",
    "salaryPlot(obpmList, \"OBPM-Adjusted Salary\", \"obpm-salary\", 40000000, 5000000, 2000000)"
   ]
  },
  {
   "cell_type": "code",
   "execution_count": null,
   "metadata": {},
   "outputs": [],
   "source": [
    "vorpList = []\n",
    "\n",
    "salary('VORP', vorpList)\n",
    "\n",
    "salaryPlot(vorpList, \"VORP-Adjusted Salary\", \"vorp-salary\", 40000000, 5000000, 2000000)"
   ]
  },
  {
   "cell_type": "code",
   "execution_count": null,
   "metadata": {},
   "outputs": [],
   "source": [
    "bpmList = []\n",
    "\n",
    "salary('BPM', bpmList)\n",
    "\n",
    "salaryPlot(bpmList, \"BPM-Adjusted Salary\", \"bpm-salary\", 40000000, 5000000, 2000000)"
   ]
  },
  {
   "cell_type": "markdown",
   "metadata": {},
   "source": [
    "# Use median sum of stats to predict salary"
   ]
  },
  {
   "cell_type": "markdown",
   "metadata": {},
   "source": [
    "In the case of PPG, all players have a positive PPG, so the salary per PPG is very low. The same goes for WS (though not all players have positive WS, most players not on rookie contracts do). Therefore, to assign a salary on these stats, let's try distance from the median."
   ]
  },
  {
   "cell_type": "code",
   "execution_count": null,
   "metadata": {},
   "outputs": [],
   "source": [
    "# Find medianWS and medianPPG \n",
    "\n",
    "medianWS = dfNoStars['WS'].median()\n",
    "medianPPG = dfNoStars['PPG'].median()"
   ]
  },
  {
   "cell_type": "code",
   "execution_count": null,
   "metadata": {},
   "outputs": [],
   "source": [
    "dfNoStars['WS Distance from Median'] = abs(dfNoStars['WS'] - medianWS)\n",
    "dfStars['WS Distance from Median'] = abs(dfStars['WS'] - medianWS)\n",
    "\n",
    "wsDistMed = []\n",
    "\n",
    "salary('WS Distance from Median', wsDistMed)\n",
    "\n",
    "salaryPlot(wsDistMed, \"Distance from Median WS-Adjusted Salary\", \"ws-dist-med-salary\", 20000000, 2000000, 2000000)"
   ]
  },
  {
   "cell_type": "markdown",
   "metadata": {},
   "source": [
    "The above stats are simply distance from the median. So, someone who scores 5 points below the median still has a +5 PPG, thereby inflating the stat. Let's see what happens if we make it that anyone who is below the median has 0."
   ]
  },
  {
   "cell_type": "code",
   "execution_count": null,
   "metadata": {},
   "outputs": [],
   "source": [
    "dfNoStars['WS >0 Distance from Median'] = (dfNoStars['WS'] - medianWS).clip_lower(0)\n",
    "dfStars['WS >0 Distance from Median'] = (dfStars['WS'] - medianWS).clip_lower(0)\n",
    "\n",
    "ws0Med = []\n",
    "\n",
    "salary('WS >0 Distance from Median', ws0Med)\n",
    "\n",
    "salaryPlot(ws0Med, \"Median WS-Adjusted Salary (≥ 0)\", \"ws-greater-0-med-salary\", 20000000, 4000000, 2000000)"
   ]
  },
  {
   "cell_type": "code",
   "execution_count": null,
   "metadata": {},
   "outputs": [],
   "source": [
    "dfNoStars['WS - Median'] = (dfNoStars['WS'] - medianWS)\n",
    "dfStars['WS - Median'] = (dfStars['WS'] - medianWS)\n",
    "\n",
    "wsMinusMed = []\n",
    "\n",
    "salary('WS - Median', wsMinusMed)\n",
    "\n",
    "salaryPlot(wsMinusMed, \"Median WS-Adjusted Salary\", \"ws-med-salary\", 20000000, 10000000, 2000000)"
   ]
  },
  {
   "cell_type": "code",
   "execution_count": null,
   "metadata": {},
   "outputs": [],
   "source": [
    "dfNoStars['PPG Distance from Median'] = abs(dfNoStars['PPG'] - medianPPG)\n",
    "dfStars['PPG Distance from Median'] = abs(dfStars['PPG'] - medianPPG)\n",
    "\n",
    "ppgDistMed = []\n",
    "\n",
    "salary('PPG Distance from Median', ppgDistMed)\n",
    "\n",
    "salaryPlot(ppgDistMed, \"Distance from Median PPG-Adjusted Salary\", \"ppg-dist-med-salary\", 20000000, 2000000, 2000000)"
   ]
  },
  {
   "cell_type": "code",
   "execution_count": null,
   "metadata": {},
   "outputs": [],
   "source": [
    "# Subtract median PPG from individual PPG with a lower clip of 0, meaning all values are >= 0\n",
    "\n",
    "dfNoStars['PPG >0 Distance from Median'] = (dfNoStars['PPG'] - medianPPG).clip_lower(0)\n",
    "dfStars['PPG >0 Distance from Median'] = (dfStars['PPG'] - medianPPG).clip_lower(0)\n",
    "\n",
    "ppg0Med = []\n",
    "\n",
    "salary('PPG >0 Distance from Median', ppg0Med)\n",
    "\n",
    "salaryPlot(ppg0Med, \"Median PPG-Adjusted Salary (≥ 0)\", \"ppg-greater-0-med-salary\", 20000000, 3000000, 2000000)"
   ]
  },
  {
   "cell_type": "markdown",
   "metadata": {},
   "source": [
    "Now let's see what happens when the salary is actually adjusted to the salary per (stat - median stat)"
   ]
  },
  {
   "cell_type": "code",
   "execution_count": null,
   "metadata": {},
   "outputs": [],
   "source": [
    "dfNoStars['PPG - Median'] = (dfNoStars['PPG'] - medianPPG)\n",
    "dfStars['PPG - Median'] = (dfStars['PPG'] - medianPPG)\n",
    "\n",
    "ppgMinusMed = []\n",
    "\n",
    "salary('PPG - Median', ppgMinusMed)\n",
    "\n",
    "salaryPlot(ppgMinusMed, \"Median PPG-Adjusted Salary\", \"ppg-med-salary\", 20000000, 10000000, 2000000)"
   ]
  }
 ],
 "metadata": {
  "kernelspec": {
   "display_name": "Python 3",
   "language": "python",
   "name": "python3"
  },
  "language_info": {
   "codemirror_mode": {
    "name": "ipython",
    "version": 3
   },
   "file_extension": ".py",
   "mimetype": "text/x-python",
   "name": "python",
   "nbconvert_exporter": "python",
   "pygments_lexer": "ipython3",
   "version": "3.6.4"
  }
 },
 "nbformat": 4,
 "nbformat_minor": 2
}
